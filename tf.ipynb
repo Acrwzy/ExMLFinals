{
 "cells": [
  {
   "cell_type": "code",
   "execution_count": 17,
   "metadata": {
    "_cell_guid": "b1076dfc-b9ad-4769-8c92-a6c4dae69d19",
    "_uuid": "8f2839f25d086af736a60e9eeb907d3b93b6e0e5",
    "execution": {
     "iopub.execute_input": "2022-11-11T07:28:22.079045Z",
     "iopub.status.busy": "2022-11-11T07:28:22.078667Z",
     "iopub.status.idle": "2022-11-11T07:28:41.127915Z",
     "shell.execute_reply": "2022-11-11T07:28:41.126797Z",
     "shell.execute_reply.started": "2022-11-11T07:28:22.079012Z"
    },
    "scrolled": false
   },
   "outputs": [],
   "source": [
    "# !unzip ../input/dogs-vs-cats/test1.zip\n",
    "# !unzip ../input/dogs-vs-cats/train.zip"
   ]
  },
  {
   "cell_type": "code",
   "execution_count": 26,
   "metadata": {},
   "outputs": [],
   "source": [
    "import numpy as np\n",
    "import pandas as pd \n",
    "from keras.preprocessing.image import ImageDataGenerator, load_img\n",
    "from keras.utils import to_categorical\n",
    "from sklearn.model_selection import train_test_split\n",
    "import matplotlib.pyplot as plt\n",
    "import random\n",
    "import os"
   ]
  },
  {
   "cell_type": "code",
   "execution_count": 38,
   "metadata": {
    "execution": {
     "iopub.execute_input": "2022-11-11T07:28:41.138210Z",
     "iopub.status.busy": "2022-11-11T07:28:41.137482Z",
     "iopub.status.idle": "2022-11-11T07:28:41.145290Z",
     "shell.execute_reply": "2022-11-11T07:28:41.144206Z",
     "shell.execute_reply.started": "2022-11-11T07:28:41.138146Z"
    }
   },
   "outputs": [],
   "source": [
    "from keras.preprocessing.image import ImageDataGenerator\n",
    "from keras.models import Sequential\n",
    "from keras.callbacks import EarlyStopping, ReduceLROnPlateau\n",
    "from keras.layers import Conv2D, MaxPooling2D, BatchNormalization\n",
    "from keras.layers import Activation, Dropout, Flatten, Dense\n",
    "\n",
    "from sklearn.model_selection import train_test_split\n"
   ]
  },
  {
   "cell_type": "code",
   "execution_count": 39,
   "metadata": {},
   "outputs": [],
   "source": [
    "image_size = (128, 128)\n",
    "channels = (3,)\n",
    "\n",
    "image_dims = image_size + channels\n"
   ]
  },
  {
   "cell_type": "code",
   "execution_count": 56,
   "metadata": {
    "execution": {
     "iopub.execute_input": "2022-11-11T07:28:41.148740Z",
     "iopub.status.busy": "2022-11-11T07:28:41.148348Z",
     "iopub.status.idle": "2022-11-11T07:28:41.191523Z",
     "shell.execute_reply": "2022-11-11T07:28:41.190701Z",
     "shell.execute_reply.started": "2022-11-11T07:28:41.148706Z"
    }
   },
   "outputs": [],
   "source": [
    "import cv2\n",
    "from PIL import Image\n",
    "\n",
    "train_dir = './train/'\n",
    "test_dir = './test1/'\n",
    "filenames=os.listdir(\"./train/\")\n",
    "\n",
    "image_size = (128, 128)\n",
    "channels = (3,)\n",
    "\n",
    "image_dims = image_size + channels\n",
    "\n",
    "categories=[]\n",
    "for img in filenames:\n",
    "    category=img.split('.')[0]\n",
    "    if category=='dog':\n",
    "        categories.append(1)\n",
    "    else:\n",
    "        categories.append(0)\n",
    "\n",
    "df = pd.DataFrame({'filename': filenames, 'category': categories})"
   ]
  },
  {
   "cell_type": "code",
   "execution_count": 72,
   "metadata": {
    "execution": {
     "iopub.execute_input": "2022-11-11T07:28:41.193290Z",
     "iopub.status.busy": "2022-11-11T07:28:41.192767Z",
     "iopub.status.idle": "2022-11-11T07:28:41.213972Z",
     "shell.execute_reply": "2022-11-11T07:28:41.213114Z",
     "shell.execute_reply.started": "2022-11-11T07:28:41.193248Z"
    }
   },
   "outputs": [],
   "source": [
    "df[\"category\"] = df[\"category\"].replace({0:'cat',1:'dog'})\n",
    "train_df,validate_df = train_test_split(df,\n",
    "                                        test_size=0.20,\n",
    "                                        random_state=32)\n",
    "train_df = train_df.reset_index(drop=True)\n",
    "validate_df = validate_df.reset_index(drop=True)\n",
    "total_train=train_df.shape[0]\n",
    "total_validate=validate_df.shape[0]\n",
    "batch_size=32"
   ]
  },
  {
   "cell_type": "code",
   "execution_count": 73,
   "metadata": {
    "execution": {
     "iopub.execute_input": "2022-11-11T07:28:41.215751Z",
     "iopub.status.busy": "2022-11-11T07:28:41.215412Z",
     "iopub.status.idle": "2022-11-11T07:28:41.221619Z",
     "shell.execute_reply": "2022-11-11T07:28:41.220397Z",
     "shell.execute_reply.started": "2022-11-11T07:28:41.215718Z"
    }
   },
   "outputs": [],
   "source": [
    "earlystop = EarlyStopping(patience = 10)\n",
    "learning_rate_reduction = ReduceLROnPlateau(monitor = 'val_acc',\n",
    "                                            patience = 2,\n",
    "                                            verbose = 1,\n",
    "                                            factor = 0.5,\n",
    "                                            min_lr = 0.00001)\n",
    "callbacks = [earlystop,learning_rate_reduction]"
   ]
  },
  {
   "cell_type": "code",
   "execution_count": 84,
   "metadata": {
    "execution": {
     "iopub.execute_input": "2022-11-11T07:28:41.224139Z",
     "iopub.status.busy": "2022-11-11T07:28:41.223036Z",
     "iopub.status.idle": "2022-11-11T07:28:41.643834Z",
     "shell.execute_reply": "2022-11-11T07:28:41.642765Z",
     "shell.execute_reply.started": "2022-11-11T07:28:41.224105Z"
    }
   },
   "outputs": [],
   "source": [
    "train_datagen = ImageDataGenerator(rotation_range=15,\n",
    "                                   rescale=1./255,\n",
    "                                   shear_range=0.1,\n",
    "                                   zoom_range=0.2,\n",
    "                                   horizontal_flip=True,\n",
    "                                   width_shift_range=0.1,\n",
    "                                   height_shift_range=0.1\n",
    "                                  )\n",
    "train_generator = train_datagen.flow_from_dataframe(train_df,\n",
    "                                                    './train',\n",
    "                                                    x_col='filename',\n",
    "                                                    y_col='category',\n",
    "                                                    target_size=image_size,\n",
    "                                                    class_mode='categorical',\n",
    "                                                    batch_size=batch_size,)\n",
    "\n",
    "validation_datagen = ImageDataGenerator(rescale=1./255)\n",
    "validation_generator = validation_datagen.flow_from_dataframe(validate_df,\n",
    "                                                              './train',                                                                \n",
    "                                                              x_col='filename',\n",
    "                                                              y_col='category',\n",
    "                                                              target_size=image_size,\n",
    "                                                              class_mode='categorical',\n",
    "                                                              batch_size=batch_size)\n",
    "test_datagen = ImageDataGenerator(rotation_range=15,\n",
    "                                  rescale=1./255,\n",
    "                                  shear_range=0.1,\n",
    "                                  zoom_range=0.2,\n",
    "                                  horizontal_flip=True,\n",
    "                                  width_shift_range=0.1,\n",
    "                                  height_shift_range=0.1)\n",
    "test_generator = train_datagen.flow_from_dataframe(train_df,\n",
    "                                                   './test1',\n",
    "                                                   x_col='filename',\n",
    "                                                   y_col='category',\n",
    "                                                   target_size= image_size,\n",
    "                                                   class_mode='categorical',\n",
    "                                                   batch_size=batch_size,\n",
    "                                                  shuffle=False)"
   ]
  },
  {
   "cell_type": "code",
   "execution_count": 77,
   "metadata": {
    "execution": {
     "iopub.execute_input": "2022-11-11T07:28:41.645852Z",
     "iopub.status.busy": "2022-11-11T07:28:41.645220Z",
     "iopub.status.idle": "2022-11-11T07:28:44.359747Z",
     "shell.execute_reply": "2022-11-11T07:28:44.358734Z",
     "shell.execute_reply.started": "2022-11-11T07:28:41.645816Z"
    }
   },
   "outputs": [],
   "source": [
    "model = Sequential()\n",
    "def predict(): \n",
    "    \n",
    "    model.add(Conv2D(32, (3, 3), activation='relu', input_shape=image_dims))\n",
    "    model.add(BatchNormalization())\n",
    "    model.add(MaxPooling2D(pool_size=(2, 2)))\n",
    "    model.add(Dropout(0.25))\n",
    "\n",
    "    model.add(Conv2D(64, (3, 3),activation='relu'))\n",
    "    model.add(BatchNormalization())\n",
    "    model.add(MaxPooling2D(pool_size=(2, 2)))\n",
    "    model.add(Dropout(0.25))\n",
    "    \n",
    "    model.add(Conv2D(128, (3, 3), activation='relu'))\n",
    "    model.add(BatchNormalization())\n",
    "    model.add(MaxPooling2D(pool_size=(2, 2)))\n",
    "    model.add(Dropout(0.25))\n",
    "\n",
    "    model.add(Flatten())\n",
    "    model.add(Dense(512))\n",
    "    model.add(Activation('relu'))\n",
    "    model.add(Dropout(0.5))\n",
    "\n",
    "    model.add(Dense(2))\n",
    "    model.add(Activation('sigmoid'))\n",
    "    \n",
    "    return model"
   ]
  },
  {
   "cell_type": "code",
   "execution_count": 78,
   "metadata": {
    "execution": {
     "iopub.execute_input": "2022-11-11T07:28:44.361754Z",
     "iopub.status.busy": "2022-11-11T07:28:44.361374Z",
     "iopub.status.idle": "2022-11-11T07:28:44.506675Z",
     "shell.execute_reply": "2022-11-11T07:28:44.505394Z",
     "shell.execute_reply.started": "2022-11-11T07:28:44.361717Z"
    }
   },
   "outputs": [],
   "source": [
    "model.compile(loss='categorical_crossentropy',\n",
    "              optimizer='rmsprop',             \n",
    "              metrics=['accuracy'])\n",
    "model = predict()"
   ]
  },
  {
   "cell_type": "code",
   "execution_count": 79,
   "metadata": {
    "execution": {
     "iopub.execute_input": "2022-11-11T07:28:44.516072Z",
     "iopub.status.busy": "2022-11-11T07:28:44.514685Z",
     "iopub.status.idle": "2022-11-11T07:28:44.530247Z",
     "shell.execute_reply": "2022-11-11T07:28:44.529043Z",
     "shell.execute_reply.started": "2022-11-11T07:28:44.516033Z"
    }
   },
   "outputs": [
    {
     "name": "stdout",
     "output_type": "stream",
     "text": [
      "Model: \"sequential_3\"\n",
      "_________________________________________________________________\n",
      " Layer (type)                Output Shape              Param #   \n",
      "=================================================================\n",
      " conv2d_6 (Conv2D)           (None, 126, 126, 32)      896       \n",
      "                                                                 \n",
      " batch_normalization_6 (Batc  (None, 126, 126, 32)     128       \n",
      " hNormalization)                                                 \n",
      "                                                                 \n",
      " max_pooling2d_6 (MaxPooling  (None, 63, 63, 32)       0         \n",
      " 2D)                                                             \n",
      "                                                                 \n",
      " dropout_8 (Dropout)         (None, 63, 63, 32)        0         \n",
      "                                                                 \n",
      " conv2d_7 (Conv2D)           (None, 61, 61, 64)        18496     \n",
      "                                                                 \n",
      " batch_normalization_7 (Batc  (None, 61, 61, 64)       256       \n",
      " hNormalization)                                                 \n",
      "                                                                 \n",
      " max_pooling2d_7 (MaxPooling  (None, 30, 30, 64)       0         \n",
      " 2D)                                                             \n",
      "                                                                 \n",
      " dropout_9 (Dropout)         (None, 30, 30, 64)        0         \n",
      "                                                                 \n",
      " conv2d_8 (Conv2D)           (None, 28, 28, 128)       73856     \n",
      "                                                                 \n",
      " batch_normalization_8 (Batc  (None, 28, 28, 128)      512       \n",
      " hNormalization)                                                 \n",
      "                                                                 \n",
      " max_pooling2d_8 (MaxPooling  (None, 14, 14, 128)      0         \n",
      " 2D)                                                             \n",
      "                                                                 \n",
      " dropout_10 (Dropout)        (None, 14, 14, 128)       0         \n",
      "                                                                 \n",
      " flatten_2 (Flatten)         (None, 25088)             0         \n",
      "                                                                 \n",
      " dense_4 (Dense)             (None, 512)               12845568  \n",
      "                                                                 \n",
      " activation_4 (Activation)   (None, 512)               0         \n",
      "                                                                 \n",
      " dropout_11 (Dropout)        (None, 512)               0         \n",
      "                                                                 \n",
      " dense_5 (Dense)             (None, 2)                 1026      \n",
      "                                                                 \n",
      " activation_5 (Activation)   (None, 2)                 0         \n",
      "                                                                 \n",
      "=================================================================\n",
      "Total params: 12,940,738\n",
      "Trainable params: 12,940,290\n",
      "Non-trainable params: 448\n",
      "_________________________________________________________________\n",
      "None\n"
     ]
    }
   ],
   "source": [
    "print(model.summary())"
   ]
  },
  {
   "cell_type": "code",
   "execution_count": 85,
   "metadata": {
    "execution": {
     "iopub.execute_input": "2022-11-11T07:28:44.535930Z",
     "iopub.status.busy": "2022-11-11T07:28:44.535193Z",
     "iopub.status.idle": "2022-11-11T07:36:45.106239Z",
     "shell.execute_reply": "2022-11-11T07:36:45.105264Z",
     "shell.execute_reply.started": "2022-11-11T07:28:44.535870Z"
    }
   },
   "outputs": [],
   "source": [
    "epochs=30\n",
    "history = model.fit(\n",
    "    train_generator,\n",
    "    epochs=epochs,\n",
    "    validation_data=validation_generator,\n",
    "    validation_steps=total_validate//batch_size,\n",
    "    steps_per_epoch=10\n",
    "    callbacks = callbacks\n",
    "    )\n"
   ]
  },
  {
   "cell_type": "code",
   "execution_count": 86,
   "metadata": {
    "execution": {
     "iopub.execute_input": "2022-11-11T07:36:45.109773Z",
     "iopub.status.busy": "2022-11-11T07:36:45.109477Z",
     "iopub.status.idle": "2022-11-11T07:36:45.568404Z",
     "shell.execute_reply": "2022-11-11T07:36:45.566693Z",
     "shell.execute_reply.started": "2022-11-11T07:36:45.109747Z"
    }
   },
   "outputs": [],
   "source": [
    "loss = history.history['loss']\n",
    "val_loss = history.history['val_loss']\n",
    "epochs = range(1, len(loss) + 1)\n",
    "plt.plot(epochs, loss, 'y', label='Training loss')\n",
    "plt.plot(epochs, val_loss, 'r', label='Validation loss')\n",
    "plt.title('Training and validation loss')\n",
    "plt.xlabel('Epochs')\n",
    "plt.ylabel('Loss')\n",
    "plt.legend()\n",
    "plt.show()\n",
    "\n",
    "acc = history.history['accuracy']\n",
    "val_acc = history.history['val_accuracy']\n",
    "plt.plot(epochs, acc, 'y', label='Training accuracy')\n",
    "plt.plot(epochs, val_acc, 'r', label='Validation accuracy')\n",
    "plt.title('Training and validation accuracy')\n",
    "plt.xlabel('Epochs')\n",
    "plt.ylabel('Accuracy')\n",
    "plt.legend()\n",
    "plt.show()\n",
    "\n",
    "_, acc = model.evaluate(test_generator, validate_df)\n",
    "print(\"Accuracy = \", (acc * 100.0), \"%\")"
   ]
  },
  {
   "cell_type": "code",
   "execution_count": null,
   "metadata": {},
   "outputs": [],
   "source": []
  }
 ],
 "metadata": {
  "kernelspec": {
   "display_name": "Python 3 (ipykernel)",
   "language": "python",
   "name": "python3"
  },
  "language_info": {
   "codemirror_mode": {
    "name": "ipython",
    "version": 3
   },
   "file_extension": ".py",
   "mimetype": "text/x-python",
   "name": "python",
   "nbconvert_exporter": "python",
   "pygments_lexer": "ipython3",
   "version": "3.9.7"
  }
 },
 "nbformat": 4,
 "nbformat_minor": 4
}
